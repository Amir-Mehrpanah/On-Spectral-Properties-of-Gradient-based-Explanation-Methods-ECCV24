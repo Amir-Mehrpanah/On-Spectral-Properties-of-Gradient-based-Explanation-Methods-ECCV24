{
 "cells": [
  {
   "cell_type": "code",
   "execution_count": 2,
   "metadata": {},
   "outputs": [
    {
     "name": "stdout",
     "output_type": "stream",
     "text": [
      "/Midgard/home/amirme/an_explanation_model\n"
     ]
    }
   ],
   "source": [
    "import pandas as pd\n",
    "import seaborn as sns\n",
    "import matplotlib.pyplot as plt\n",
    "import numpy as np\n",
    "import os\n",
    "\n",
    "%cd /Midgard/home/amirme/an_explanation_model\n",
    "from source.project_manager import (\n",
    "    load_experiment_metadata,\n",
    "    delete_experiment_data,\n",
    "    check_file_exists,\n",
    ")\n",
    "from commands.experiment_6_0 import save_metadata_dir\n",
    "from source.data_manager import preprocess_masks,plot_masks,minmax_normalize,sum_channels,symmetric_minmax_normalize\n",
    "from source.labels import IMAGENET_LABELS\n",
    "imshow_args = {\"cmap\": \"viridis\" , \"vmin\": 0, \"vmax\": 1}"
   ]
  },
  {
   "cell_type": "code",
   "execution_count": 7,
   "metadata": {},
   "outputs": [
    {
     "name": "stdout",
     "output_type": "stream",
     "text": [
      "/local_storage/users/amirme/metadata/experiment_6.0\n",
      "/local_storage/users/amirme/metadata/experiment_6.0/*.csv\n"
     ]
    },
    {
     "data": {
      "text/plain": [
       "['/local_storage/users/amirme/metadata/experiment_6.0/2023-10-24_09-31-38-419752.csv',\n",
       " '/local_storage/users/amirme/metadata/experiment_6.0/2023-10-24_09-31-38-419752_merged.csv',\n",
       " '/local_storage/users/amirme/metadata/experiment_6.0/2023-10-24_07-21-11-139453.csv',\n",
       " '/local_storage/users/amirme/metadata/experiment_6.0/2023-10-24_07-21-11-139453_merged.csv']"
      ]
     },
     "execution_count": 7,
     "metadata": {},
     "output_type": "execute_result"
    }
   ],
   "source": [
    "from glob import glob\n",
    "print(save_metadata_dir)\n",
    "glob_path =os.path.join(save_metadata_dir,\"*.csv\")\n",
    "print(glob_path)\n",
    "glob(glob_path)"
   ]
  },
  {
   "cell_type": "code",
   "execution_count": 3,
   "metadata": {},
   "outputs": [
    {
     "name": "stdout",
     "output_type": "stream",
     "text": [
      "[]\n"
     ]
    },
    {
     "ename": "AssertionError",
     "evalue": "Could not find any metadata files in /*.csv",
     "output_type": "error",
     "traceback": [
      "\u001b[0;31m---------------------------------------------------------------------------\u001b[0m",
      "\u001b[0;31mAssertionError\u001b[0m                            Traceback (most recent call last)",
      "\u001b[1;32m/Midgard/home/amirme/an_explanation_model/experiments/experiment_6_0.ipynb Cell 2\u001b[0m line \u001b[0;36m1\n\u001b[0;32m----> <a href='vscode-notebook-cell://ssh-remote%2Bslurmcluster/Midgard/home/amirme/an_explanation_model/experiments/experiment_6_0.ipynb#W1sdnNjb2RlLXJlbW90ZQ%3D%3D?line=0'>1</a>\u001b[0m project_metadata \u001b[39m=\u001b[39m load_experiment_metadata(glob_path\u001b[39m=\u001b[39;49mos\u001b[39m.\u001b[39;49mpath\u001b[39m.\u001b[39;49mjoin(save_metadata_dir,\u001b[39m\"\u001b[39;49m\u001b[39m/*.csv\u001b[39;49m\u001b[39m\"\u001b[39;49m))\n\u001b[1;32m      <a href='vscode-notebook-cell://ssh-remote%2Bslurmcluster/Midgard/home/amirme/an_explanation_model/experiments/experiment_6_0.ipynb#W1sdnNjb2RlLXJlbW90ZQ%3D%3D?line=1'>2</a>\u001b[0m \u001b[39mprint\u001b[39m(project_metadata\u001b[39m.\u001b[39mcolumns)\n\u001b[1;32m      <a href='vscode-notebook-cell://ssh-remote%2Bslurmcluster/Midgard/home/amirme/an_explanation_model/experiments/experiment_6_0.ipynb#W1sdnNjb2RlLXJlbW90ZQ%3D%3D?line=2'>3</a>\u001b[0m project_metadata \u001b[39m=\u001b[39m project_metadata\u001b[39m.\u001b[39mset_index(\n\u001b[1;32m      <a href='vscode-notebook-cell://ssh-remote%2Bslurmcluster/Midgard/home/amirme/an_explanation_model/experiments/experiment_6_0.ipynb#W1sdnNjb2RlLXJlbW90ZQ%3D%3D?line=3'>4</a>\u001b[0m     [\n\u001b[1;32m      <a href='vscode-notebook-cell://ssh-remote%2Bslurmcluster/Midgard/home/amirme/an_explanation_model/experiments/experiment_6_0.ipynb#W1sdnNjb2RlLXJlbW90ZQ%3D%3D?line=4'>5</a>\u001b[0m         \u001b[39m\"\u001b[39m\u001b[39mstream_name\u001b[39m\u001b[39m\"\u001b[39m,\n\u001b[0;32m   (...)\u001b[0m\n\u001b[1;32m     <a href='vscode-notebook-cell://ssh-remote%2Bslurmcluster/Midgard/home/amirme/an_explanation_model/experiments/experiment_6_0.ipynb#W1sdnNjb2RlLXJlbW90ZQ%3D%3D?line=9'>10</a>\u001b[0m     ]\n\u001b[1;32m     <a href='vscode-notebook-cell://ssh-remote%2Bslurmcluster/Midgard/home/amirme/an_explanation_model/experiments/experiment_6_0.ipynb#W1sdnNjb2RlLXJlbW90ZQ%3D%3D?line=10'>11</a>\u001b[0m )\u001b[39m.\u001b[39msort_index()\n",
      "File \u001b[0;32m~/an_explanation_model/source/project_manager.py:32\u001b[0m, in \u001b[0;36mload_experiment_metadata\u001b[0;34m(glob_path)\u001b[0m\n\u001b[1;32m     30\u001b[0m \u001b[39mprint\u001b[39m(metadata_paths)\n\u001b[1;32m     31\u001b[0m metadata_paths_merged \u001b[39m=\u001b[39m [path \u001b[39mfor\u001b[39;00m path \u001b[39min\u001b[39;00m metadata_paths \u001b[39mif\u001b[39;00m \u001b[39m\"\u001b[39m\u001b[39mmerged\u001b[39m\u001b[39m\"\u001b[39m \u001b[39min\u001b[39;00m path]\n\u001b[0;32m---> 32\u001b[0m \u001b[39massert\u001b[39;00m (\n\u001b[1;32m     33\u001b[0m     \u001b[39mlen\u001b[39m(metadata_paths_merged) \u001b[39m==\u001b[39m \u001b[39m1\u001b[39m\n\u001b[1;32m     34\u001b[0m ), \u001b[39mf\u001b[39m\u001b[39m\"\u001b[39m\u001b[39mCould not find any metadata files in \u001b[39m\u001b[39m{\u001b[39;00mglob_path\u001b[39m}\u001b[39;00m\u001b[39m\"\u001b[39m\n\u001b[1;32m     36\u001b[0m metadata_path \u001b[39m=\u001b[39m metadata_paths_merged[\u001b[39m0\u001b[39m]\n\u001b[1;32m     37\u001b[0m \u001b[39mreturn\u001b[39;00m pd\u001b[39m.\u001b[39mread_csv(metadata_path, index_col\u001b[39m=\u001b[39m\u001b[39mFalse\u001b[39;00m)\n",
      "\u001b[0;31mAssertionError\u001b[0m: Could not find any metadata files in /*.csv"
     ]
    }
   ],
   "source": [
    "project_metadata = load_experiment_metadata(glob_path=os.path.join(save_metadata_dir,\"*.csv\"))\n",
    "print(project_metadata.columns)\n",
    "project_metadata = project_metadata.set_index(\n",
    "    [\n",
    "        \"stream_name\",\n",
    "        \"stream_statistic\",\n",
    "        \"image_index\",\n",
    "        \"baseline_mask_type\",\n",
    "        \"alpha_mask_value\",\n",
    "    ]\n",
    ").sort_index()\n",
    "print(project_metadata.shape)"
   ]
  }
 ],
 "metadata": {
  "kernelspec": {
   "display_name": "Python 3 (ipykernel)",
   "language": "python",
   "name": "python3"
  },
  "language_info": {
   "codemirror_mode": {
    "name": "ipython",
    "version": 3
   },
   "file_extension": ".py",
   "mimetype": "text/x-python",
   "name": "python",
   "nbconvert_exporter": "python",
   "pygments_lexer": "ipython3",
   "version": "3.9.16"
  }
 },
 "nbformat": 4,
 "nbformat_minor": 2
}
