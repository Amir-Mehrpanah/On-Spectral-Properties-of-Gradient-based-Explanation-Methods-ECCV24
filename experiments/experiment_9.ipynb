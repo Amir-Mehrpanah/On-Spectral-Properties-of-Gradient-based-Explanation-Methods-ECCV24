{
 "cells": [
  {
   "cell_type": "code",
   "execution_count": 1,
   "metadata": {},
   "outputs": [
    {
     "name": "stdout",
     "output_type": "stream",
     "text": [
      "/proj/azizpour-group/users/x_amime/projects/an_explanation_model\n"
     ]
    },
    {
     "name": "stderr",
     "output_type": "stream",
     "text": [
      "/home/x_amime/.conda/envs/xlab10/lib/python3.10/site-packages/IPython/core/magics/osm.py:417: UserWarning: using dhist requires you to install the `pickleshare` library.\n",
      "  self.shell.db['dhist'] = compress_dhist(dhist)[-100:]\n"
     ]
    }
   ],
   "source": [
    "%cd /home/x_amime/x_amime/projects/an_explanation_model/"
   ]
  },
  {
   "cell_type": "code",
   "execution_count": 2,
   "metadata": {},
   "outputs": [
    {
     "name": "stderr",
     "output_type": "stream",
     "text": [
      "2024-05-11 10:51:35.574693: W tensorflow/compiler/tf2tensorrt/utils/py_utils.cc:38] TF-TRT Warning: Could not find TensorRT\n",
      "/home/x_amime/.conda/envs/xlab10/lib/python3.10/site-packages/tqdm/auto.py:21: TqdmWarning: IProgress not found. Please update jupyter and ipywidgets. See https://ipywidgets.readthedocs.io/en/stable/user_install.html\n",
      "  from .autonotebook import tqdm as notebook_tqdm\n"
     ]
    }
   ],
   "source": [
    "import os\n",
    "\n",
    "os.environ[\"CUDA_VISIBLE_DEVICES\"] = \"-1\"\n",
    "\n",
    "import flax\n",
    "import jax\n",
    "from matplotlib import pyplot as plt\n",
    "import numpy as np\n",
    "import optax \n",
    "import tqdm\n",
    "\n",
    "\n",
    "%load_ext autoreload\n",
    "%autoreload 2\n",
    "\n",
    "import pandas as pd\n",
    "import seaborn as sns\n",
    "from glob import glob\n",
    "import PIL\n",
    "\n",
    "from scipy.stats import ttest_ind_from_stats as ttest\n",
    "from source.data_manager import single_query_imagenet\n",
    "from source.project_manager import load_experiment_metadata\n",
    "from source.data_manager import preprocess, save_axis\n",
    "from source.model_manager import init_vit_forward\n",
    "\n",
    "# run this without ? to compute aucs for an experiment\n",
    "# run this with ? to merge\n",
    "# run this with ? twice to merge aucs accross experiments\n",
    "save_metadata_dir = \"outputs/metadata/9_?_*/\"\n",
    "\n",
    "imshow_args = {\"cmap\": \"jet\"}\n",
    "dataset_dir = \"/proj/azizpour-group/datasets/imagenet\""
   ]
  },
  {
   "cell_type": "code",
   "execution_count": 14,
   "metadata": {},
   "outputs": [
    {
     "name": "stderr",
     "output_type": "stream",
     "text": [
      "2024-05-11 12:43:08.746216: W tensorflow/core/framework/local_rendezvous.cc:404] Local rendezvous is aborting with status: OUT_OF_RANGE: End of sequence\n"
     ]
    }
   ],
   "source": [
    "image,label,path = single_query_imagenet(dataset_dir=dataset_dir,\n",
    "                                         skip=1,\n",
    "                                         input_shape=(1,224,224,3),\n",
    "                                         take=1)"
   ]
  },
  {
   "cell_type": "code",
   "execution_count": 15,
   "metadata": {},
   "outputs": [
    {
     "data": {
      "text/plain": [
       "624"
      ]
     },
     "execution_count": 15,
     "metadata": {},
     "output_type": "execute_result"
    }
   ],
   "source": [
    "label"
   ]
  },
  {
   "cell_type": "code",
   "execution_count": 16,
   "metadata": {},
   "outputs": [],
   "source": [
    "import argparse\n",
    "\n",
    "\n",
    "args = argparse.Namespace(\n",
    "    save_temp_base_dir=\"outputs/temp\",\n",
    "    dataset=\"imagenet\",\n",
    "    input_shape=(1, 224, 224, 3),\n",
    ")\n",
    "init_vit_forward(args)\n",
    "f = args.forward[0]"
   ]
  },
  {
   "cell_type": "code",
   "execution_count": 17,
   "metadata": {},
   "outputs": [
    {
     "data": {
      "text/plain": [
       "624"
      ]
     },
     "execution_count": 17,
     "metadata": {},
     "output_type": "execute_result"
    }
   ],
   "source": [
    "np.exp(f(image)).argmax()"
   ]
  },
  {
   "cell_type": "code",
   "execution_count": null,
   "metadata": {},
   "outputs": [],
   "source": []
  }
 ],
 "metadata": {
  "kernelspec": {
   "display_name": "Python 3 (ipykernel)",
   "language": "python",
   "name": "python3"
  },
  "language_info": {
   "codemirror_mode": {
    "name": "ipython",
    "version": 3
   },
   "file_extension": ".py",
   "mimetype": "text/x-python",
   "name": "python",
   "nbconvert_exporter": "python",
   "pygments_lexer": "ipython3",
   "version": "3.10.13"
  }
 },
 "nbformat": 4,
 "nbformat_minor": 2
}
