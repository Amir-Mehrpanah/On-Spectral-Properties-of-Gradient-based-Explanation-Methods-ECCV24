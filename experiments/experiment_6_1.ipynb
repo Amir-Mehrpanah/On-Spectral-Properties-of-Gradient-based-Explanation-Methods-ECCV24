{
 "cells": [
  {
   "cell_type": "code",
   "execution_count": 1,
   "metadata": {},
   "outputs": [
    {
     "name": "stdout",
     "output_type": "stream",
     "text": [
      "/Midgard/home/amirme/an_explanation_model\n"
     ]
    }
   ],
   "source": [
    "%cd /Midgard/home/amirme/an_explanation_model"
   ]
  },
  {
   "cell_type": "code",
   "execution_count": 18,
   "metadata": {},
   "outputs": [],
   "source": [
    "import pandas as pd\n",
    "import seaborn as sns\n",
    "import matplotlib.pyplot as plt\n",
    "import numpy as np\n",
    "import os\n",
    "from functools import partial\n",
    "\n",
    "from source.project_manager import (\n",
    "    load_experiment_inconsistency,\n",
    "    load_experiment_metadata,\n",
    "    delete_experiment_data,\n",
    "    check_file_exists,\n",
    ")\n",
    "from commands.experiment_6_0 import (\n",
    "    save_metadata_dir,\n",
    "    dataset_dir,\n",
    "    input_shape,\n",
    "    save_output_dir,\n",
    ")\n",
    "os.makedirs(save_output_dir, exist_ok=True)\n",
    "from source.data_manager import (\n",
    "    preprocess_masks,\n",
    "    plot_masks,\n",
    "    minmax_normalize,\n",
    "    sum_channels,\n",
    "    symmetric_minmax_normalize,\n",
    "    single_query_imagenet,\n",
    "    save_axis,\n",
    ")\n",
    "from source.labels import IMAGENET_LABELS\n",
    "\n",
    "imshow_args = {\"cmap\": \"hsv\"}\n",
    "\n",
    "query_imagenet = partial(\n",
    "    single_query_imagenet, dataset_dir=dataset_dir, input_shape=input_shape\n",
    ")"
   ]
  },
  {
   "cell_type": "code",
   "execution_count": 3,
   "metadata": {},
   "outputs": [
    {
     "name": "stdout",
     "output_type": "stream",
     "text": [
      "Index(['time_to_compute', 'batch_index', 'monitored_statistic_change',\n",
      "       'path_prefix', 'data_path', 'stream_name', 'stream_statistic',\n",
      "       'alpha_mask_type', 'alpha_mask_value', 'baseline_mask_type',\n",
      "       'projection_type', 'projection_distribution', 'projection_top_k',\n",
      "       'projection_index', 'label', 'architecture', 'method', 'output_layer',\n",
      "       'dataset', 'image_index', 'input_shape', 'num_classes', 'seed',\n",
      "       'batch_size', 'max_batches', 'min_change', 'metadata_file_path'],\n",
      "      dtype='object')\n",
      "(2100, 22)\n"
     ]
    }
   ],
   "source": [
    "project_metadata = load_experiment_metadata(save_metadata_dir)\n",
    "print(project_metadata.columns)\n",
    "project_metadata = project_metadata.set_index(\n",
    "    [\n",
    "        \"stream_name\",\n",
    "        \"stream_statistic\",\n",
    "        \"image_index\",\n",
    "        \"baseline_mask_type\",\n",
    "        \"alpha_mask_value\",\n",
    "    ]\n",
    ").sort_index()\n",
    "print(project_metadata.shape)"
   ]
  },
  {
   "cell_type": "code",
   "execution_count": 4,
   "metadata": {},
   "outputs": [
    {
     "name": "stdout",
     "output_type": "stream",
     "text": [
      "stream_name        stream_statistic  image_index  baseline_mask_type  alpha_mask_value\n",
      "log_probs          meanx             1            gaussian            0.0                 1\n",
      "vanilla_grad_mask  meanx2            2            gaussian            0.4                 1\n",
      "                                                                      0.2                 1\n",
      "                                                                      0.1                 1\n",
      "                                                                      0.0                 1\n",
      "                                                                                         ..\n",
      "log_probs          meanx             100          gaussian            0.1                 1\n",
      "                                                                      0.0                 1\n",
      "                                     99           gaussian            0.6                 1\n",
      "                                                                      0.5                 1\n",
      "vanilla_grad_mask  meanx2            100          gaussian            0.6                 1\n",
      "Name: count, Length: 2100, dtype: int64\n",
      "2100\n"
     ]
    }
   ],
   "source": [
    "vc = project_metadata.index.value_counts()\n",
    "print(vc)\n",
    "print(len(vc))\n",
    "image_indices = project_metadata.index.get_level_values(\"image_index\").unique()"
   ]
  },
  {
   "cell_type": "code",
   "execution_count": 5,
   "metadata": {},
   "outputs": [
    {
     "name": "stdout",
     "output_type": "stream",
     "text": [
      "stream_name = {'log_probs': 700, 'results_at_projection': 700, 'vanilla_grad_mask': 700}\n",
      "stream_statistic = {'meanx': 1400, 'meanx2': 700}\n",
      "image_index = {1: 21, 64: 21, 74: 21, 73: 21, 72: 21, 71: 21, 70: 21, 69: 21, 68: 21, 67: 21, 66: 21, 65: 21, 63: 21, 2: 21, 62: 21, 61: 21, 60: 21, 59: 21, 58: 21, 57: 21, 56: 21, 55: 21, 54: 21, 53: 21, 75: 21, 76: 21, 77: 21, 78: 21, 99: 21, 98: 21, 97: 21, 96: 21, 95: 21, 94: 21, 93: 21, 92: 21, 91: 21, 90: 21, 89: 21, 88: 21, 87: 21, 86: 21, 85: 21, 84: 21, 83: 21, 82: 21, 81: 21, 80: 21, 79: 21, 52: 21, 51: 21, 50: 21, 25: 21, 23: 21, 22: 21, 21: 21, 20: 21, 19: 21, 18: 21, 17: 21, 16: 21, 15: 21, 14: 21, 13: 21, 12: 21, 11: 21, 10: 21, 9: 21, 8: 21, 7: 21, 6: 21, 5: 21, 4: 21, 3: 21, 24: 21, 26: 21, 49: 21, 27: 21, 48: 21, 47: 21, 46: 21, 45: 21, 44: 21, 43: 21, 42: 21, 41: 21, 40: 21, 39: 21, 38: 21, 37: 21, 36: 21, 35: 21, 34: 21, 33: 21, 32: 21, 31: 21, 30: 21, 29: 21, 28: 21, 100: 21}\n",
      "baseline_mask_type = {'gaussian': 2100}\n",
      "alpha_mask_value = {0.0: 300, 0.1: 300, 0.2: 300, 0.3: 300, 0.4: 300, 0.5: 300, 0.6: 300}\n"
     ]
    }
   ],
   "source": [
    "for name in project_metadata.index.names:\n",
    "    print(name,\"=\",project_metadata.index.get_level_values(name).value_counts().to_dict())"
   ]
  },
  {
   "cell_type": "code",
   "execution_count": 16,
   "metadata": {},
   "outputs": [],
   "source": [
    "def spectral_lens(image,eps=1e-3):\n",
    "    amplitude = 1/(image[\"alpha_mask_value\"].values+eps)\n",
    "    image = np.stack(image[\"grad_mask\"].values)\n",
    "    amplitude= np.expand_dims(amplitude,axis=(1,2,3))\n",
    "    assert image.ndim==4, f\"{image.shape} must be 4d (T,C,H,W)\"\n",
    "    assert amplitude.ndim==4, f\"{amplitude.shape} must be 4d (T,1,1,1)\"\n",
    "    image = image*amplitude\n",
    "    image = image.sum(axis=0)\n",
    "    return image"
   ]
  },
  {
   "cell_type": "code",
   "execution_count": 17,
   "metadata": {},
   "outputs": [],
   "source": [
    "image_indices = [7,14,41,20]\n",
    "explanations_temp = project_metadata.loc[(\"vanilla_grad_mask\", \"meanx2\", image_indices, \"gaussian\"), \"data_path\"]\n",
    "explanations_temp = explanations_temp.droplevel([\"stream_name\",\"stream_statistic\",\"baseline_mask_type\"])\n",
    "explanations_temp = explanations_temp.apply(np.load)\n",
    "explanations_temp.name = \"grad_mask\"\n",
    "explanations_temp = explanations_temp.reset_index()\n",
    "explanations_temp = explanations_temp.groupby(\"image_index\",as_index=False).apply(lambda x:spectral_lens(x))"
   ]
  },
  {
   "cell_type": "code",
   "execution_count": null,
   "metadata": {},
   "outputs": [],
   "source": [
    "n_cols=4\n",
    "fig,axes = plt.subplots(image_indices//n_cols,n_cols,figsize=(15*n_cols,15))\n",
    "for ax,image_index in zip(axes.ravel(),image_indices):\n",
    "    image = explanations_temp.loc[image_index]\n",
    "    ax.imshow(image,**imshow_args)\n",
    "    ax.set_title(f\"image_index={image_index}\")\n",
    "\n",
    "plt.show()"
   ]
  }
 ],
 "metadata": {
  "kernelspec": {
   "display_name": "Python 3 (ipykernel)",
   "language": "python",
   "name": "python3"
  }
 },
 "nbformat": 4,
 "nbformat_minor": 2
}
