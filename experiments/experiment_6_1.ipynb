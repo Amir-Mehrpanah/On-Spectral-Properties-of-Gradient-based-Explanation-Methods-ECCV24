{
 "cells": [
  {
   "cell_type": "code",
   "execution_count": 1,
   "metadata": {},
   "outputs": [
    {
     "name": "stdout",
     "output_type": "stream",
     "text": [
      "/Midgard/home/amirme/an_explanation_model\n"
     ]
    }
   ],
   "source": [
    "%cd /Midgard/home/amirme/an_explanation_model"
   ]
  },
  {
   "cell_type": "code",
   "execution_count": 2,
   "metadata": {},
   "outputs": [
    {
     "name": "stderr",
     "output_type": "stream",
     "text": [
      "2023-10-29 14:15:48.352631: I tensorflow/core/platform/cpu_feature_guard.cc:182] This TensorFlow binary is optimized to use available CPU instructions in performance-critical operations.\n",
      "To enable the following instructions: AVX2 FMA, in other operations, rebuild TensorFlow with the appropriate compiler flags.\n",
      "2023-10-29 14:15:53.964953: W tensorflow/compiler/tf2tensorrt/utils/py_utils.cc:38] TF-TRT Warning: Could not find TensorRT\n",
      "/Midgard/home/amirme/miniconda3/envs/xmodel/lib/python3.9/site-packages/tqdm/auto.py:21: TqdmWarning: IProgress not found. Please update jupyter and ipywidgets. See https://ipywidgets.readthedocs.io/en/stable/user_install.html\n",
      "  from .autonotebook import tqdm as notebook_tqdm\n"
     ]
    }
   ],
   "source": [
    "import pandas as pd\n",
    "import seaborn as sns\n",
    "import matplotlib.pyplot as plt\n",
    "import numpy as np\n",
    "import os\n",
    "from functools import partial\n",
    "\n",
    "from source.project_manager import (\n",
    "    load_experiment_inconsistency,\n",
    "    load_experiment_metadata,\n",
    "    delete_experiment_data,\n",
    "    check_file_exists,\n",
    ")\n",
    "from commands.experiment_6_0 import (\n",
    "    save_metadata_dir,\n",
    "    dataset_dir,\n",
    "    input_shape,\n",
    "    save_output_dir,\n",
    ")\n",
    "os.makedirs(save_output_dir, exist_ok=True)\n",
    "from source.data_manager import (\n",
    "    preprocess_masks,\n",
    "    plot_masks,\n",
    "    minmax_normalize,\n",
    "    sum_channels,\n",
    "    symmetric_minmax_normalize,\n",
    "    single_query_imagenet,\n",
    "    save_axis,\n",
    ")\n",
    "from source.labels import IMAGENET_LABELS\n",
    "\n",
    "imshow_args = {\"cmap\": \"viridis\", \"vmin\": 0, \"vmax\": 1}\n",
    "\n",
    "query_imagenet = partial(\n",
    "    single_query_imagenet, dataset_dir=dataset_dir, input_shape=input_shape\n",
    ")"
   ]
  },
  {
   "cell_type": "code",
   "execution_count": 27,
   "metadata": {},
   "outputs": [
    {
     "name": "stdout",
     "output_type": "stream",
     "text": [
      "Index(['time_to_compute', 'batch_index', 'monitored_statistic_change',\n",
      "       'path_prefix', 'data_path', 'stream_name', 'stream_statistic',\n",
      "       'alpha_mask_type', 'alpha_mask_value', 'baseline_mask_type',\n",
      "       'projection_type', 'projection_distribution', 'projection_top_k',\n",
      "       'projection_index', 'label', 'architecture', 'method', 'output_layer',\n",
      "       'dataset', 'image_index', 'input_shape', 'num_classes', 'seed',\n",
      "       'batch_size', 'max_batches', 'min_change', 'metadata_file_path'],\n",
      "      dtype='object')\n",
      "(2100, 22)\n"
     ]
    }
   ],
   "source": [
    "project_metadata = load_experiment_metadata(save_metadata_dir)\n",
    "print(project_metadata.columns)\n",
    "project_metadata = project_metadata.set_index(\n",
    "    [\n",
    "        \"stream_name\",\n",
    "        \"stream_statistic\",\n",
    "        \"image_index\",\n",
    "        \"baseline_mask_type\",\n",
    "        \"alpha_mask_value\",\n",
    "    ]\n",
    ").sort_index()\n",
    "print(project_metadata.shape)"
   ]
  },
  {
   "cell_type": "code",
   "execution_count": 28,
   "metadata": {},
   "outputs": [
    {
     "name": "stdout",
     "output_type": "stream",
     "text": [
      "stream_name        stream_statistic  image_index  baseline_mask_type  alpha_mask_value\n",
      "log_probs          meanx             1            gaussian            0.0                 1\n",
      "vanilla_grad_mask  meanx2            2            gaussian            0.4                 1\n",
      "                                                                      0.2                 1\n",
      "                                                                      0.1                 1\n",
      "                                                                      0.0                 1\n",
      "                                                                                         ..\n",
      "log_probs          meanx             100          gaussian            0.1                 1\n",
      "                                                                      0.0                 1\n",
      "                                     99           gaussian            0.6                 1\n",
      "                                                                      0.5                 1\n",
      "vanilla_grad_mask  meanx2            100          gaussian            0.6                 1\n",
      "Name: count, Length: 2100, dtype: int64\n",
      "2100\n"
     ]
    }
   ],
   "source": [
    "vc = project_metadata.index.value_counts()\n",
    "print(vc)\n",
    "print(len(vc))\n",
    "image_indices = project_metadata.index.get_level_values(\"image_index\").unique()"
   ]
  },
  {
   "cell_type": "code",
   "execution_count": 29,
   "metadata": {},
   "outputs": [
    {
     "name": "stdout",
     "output_type": "stream",
     "text": [
      "stream_name = {'log_probs': 700, 'results_at_projection': 700, 'vanilla_grad_mask': 700}\n",
      "stream_statistic = {'meanx': 1400, 'meanx2': 700}\n",
      "image_index = {1: 21, 64: 21, 74: 21, 73: 21, 72: 21, 71: 21, 70: 21, 69: 21, 68: 21, 67: 21, 66: 21, 65: 21, 63: 21, 2: 21, 62: 21, 61: 21, 60: 21, 59: 21, 58: 21, 57: 21, 56: 21, 55: 21, 54: 21, 53: 21, 75: 21, 76: 21, 77: 21, 78: 21, 99: 21, 98: 21, 97: 21, 96: 21, 95: 21, 94: 21, 93: 21, 92: 21, 91: 21, 90: 21, 89: 21, 88: 21, 87: 21, 86: 21, 85: 21, 84: 21, 83: 21, 82: 21, 81: 21, 80: 21, 79: 21, 52: 21, 51: 21, 50: 21, 25: 21, 23: 21, 22: 21, 21: 21, 20: 21, 19: 21, 18: 21, 17: 21, 16: 21, 15: 21, 14: 21, 13: 21, 12: 21, 11: 21, 10: 21, 9: 21, 8: 21, 7: 21, 6: 21, 5: 21, 4: 21, 3: 21, 24: 21, 26: 21, 49: 21, 27: 21, 48: 21, 47: 21, 46: 21, 45: 21, 44: 21, 43: 21, 42: 21, 41: 21, 40: 21, 39: 21, 38: 21, 37: 21, 36: 21, 35: 21, 34: 21, 33: 21, 32: 21, 31: 21, 30: 21, 29: 21, 28: 21, 100: 21}\n",
      "baseline_mask_type = {'gaussian': 2100}\n",
      "alpha_mask_value = {0.0: 300, 0.1: 300, 0.2: 300, 0.3: 300, 0.4: 300, 0.5: 300, 0.6: 300}\n"
     ]
    }
   ],
   "source": [
    "for name in project_metadata.index.names:\n",
    "    print(name,\"=\",project_metadata.index.get_level_values(name).value_counts().to_dict())"
   ]
  },
  {
   "cell_type": "code",
   "execution_count": 59,
   "metadata": {},
   "outputs": [],
   "source": [
    "def spectral_lens(image,eps=1e-3):\n",
    "    amplitude = 1/(image[\"alpha_mask_value\"].values+eps)\n",
    "    amplitude= amplitude.expand_dims(axis=1)\n",
    "    image = np.stack(image[\"grad_mask\"].values)\n",
    "    print(\"shape \",image.shape)\n",
    "    image =  amplitude * image\n",
    "    print(\"shape \",image.shape)\n",
    "    image = image.sum(axis=0)\n",
    "    print(\"shape \",image.shape)\n",
    "    raise Exception(\"spectral_lens\")"
   ]
  },
  {
   "cell_type": "code",
   "execution_count": 60,
   "metadata": {},
   "outputs": [
    {
     "name": "stdout",
     "output_type": "stream",
     "text": [
      "shape  (7, 224, 224, 3)\n"
     ]
    },
    {
     "ename": "ValueError",
     "evalue": "operands could not be broadcast together with shapes (7,) (7,224,224,3) ",
     "output_type": "error",
     "traceback": [
      "\u001b[0;31m---------------------------------------------------------------------------\u001b[0m",
      "\u001b[0;31mValueError\u001b[0m                                Traceback (most recent call last)",
      "\u001b[1;32m/Midgard/home/amirme/an_explanation_model/experiments/experiment_6_1.ipynb Cell 7\u001b[0m line \u001b[0;36m7\n\u001b[1;32m      <a href='vscode-notebook-cell://ssh-remote%2Bslurmcluster/Midgard/home/amirme/an_explanation_model/experiments/experiment_6_1.ipynb#W6sdnNjb2RlLXJlbW90ZQ%3D%3D?line=4'>5</a>\u001b[0m explanations_temp\u001b[39m.\u001b[39mname \u001b[39m=\u001b[39m \u001b[39m\"\u001b[39m\u001b[39mgrad_mask\u001b[39m\u001b[39m\"\u001b[39m\n\u001b[1;32m      <a href='vscode-notebook-cell://ssh-remote%2Bslurmcluster/Midgard/home/amirme/an_explanation_model/experiments/experiment_6_1.ipynb#W6sdnNjb2RlLXJlbW90ZQ%3D%3D?line=5'>6</a>\u001b[0m explanations_temp \u001b[39m=\u001b[39m explanations_temp\u001b[39m.\u001b[39mreset_index()\n\u001b[0;32m----> <a href='vscode-notebook-cell://ssh-remote%2Bslurmcluster/Midgard/home/amirme/an_explanation_model/experiments/experiment_6_1.ipynb#W6sdnNjb2RlLXJlbW90ZQ%3D%3D?line=6'>7</a>\u001b[0m explanations_temp \u001b[39m=\u001b[39m explanations_temp\u001b[39m.\u001b[39;49mgroupby(\u001b[39m\"\u001b[39;49m\u001b[39mimage_index\u001b[39;49m\u001b[39m\"\u001b[39;49m,as_index\u001b[39m=\u001b[39;49m\u001b[39mFalse\u001b[39;49;00m)\u001b[39m.\u001b[39;49mapply(\u001b[39mlambda\u001b[39;49;00m x:spectral_lens(x))\n",
      "File \u001b[0;32m~/miniconda3/envs/xmodel/lib/python3.9/site-packages/pandas/core/groupby/groupby.py:1353\u001b[0m, in \u001b[0;36mGroupBy.apply\u001b[0;34m(self, func, *args, **kwargs)\u001b[0m\n\u001b[1;32m   1351\u001b[0m \u001b[39mwith\u001b[39;00m option_context(\u001b[39m\"\u001b[39m\u001b[39mmode.chained_assignment\u001b[39m\u001b[39m\"\u001b[39m, \u001b[39mNone\u001b[39;00m):\n\u001b[1;32m   1352\u001b[0m     \u001b[39mtry\u001b[39;00m:\n\u001b[0;32m-> 1353\u001b[0m         result \u001b[39m=\u001b[39m \u001b[39mself\u001b[39;49m\u001b[39m.\u001b[39;49m_python_apply_general(f, \u001b[39mself\u001b[39;49m\u001b[39m.\u001b[39;49m_selected_obj)\n\u001b[1;32m   1354\u001b[0m     \u001b[39mexcept\u001b[39;00m \u001b[39mTypeError\u001b[39;00m:\n\u001b[1;32m   1355\u001b[0m         \u001b[39m# gh-20949\u001b[39;00m\n\u001b[1;32m   1356\u001b[0m         \u001b[39m# try again, with .apply acting as a filtering\u001b[39;00m\n\u001b[0;32m   (...)\u001b[0m\n\u001b[1;32m   1360\u001b[0m         \u001b[39m# fails on *some* columns, e.g. a numeric operation\u001b[39;00m\n\u001b[1;32m   1361\u001b[0m         \u001b[39m# on a string grouper column\u001b[39;00m\n\u001b[1;32m   1363\u001b[0m         \u001b[39mreturn\u001b[39;00m \u001b[39mself\u001b[39m\u001b[39m.\u001b[39m_python_apply_general(f, \u001b[39mself\u001b[39m\u001b[39m.\u001b[39m_obj_with_exclusions)\n",
      "File \u001b[0;32m~/miniconda3/envs/xmodel/lib/python3.9/site-packages/pandas/core/groupby/groupby.py:1402\u001b[0m, in \u001b[0;36mGroupBy._python_apply_general\u001b[0;34m(self, f, data, not_indexed_same, is_transform, is_agg)\u001b[0m\n\u001b[1;32m   1367\u001b[0m \u001b[39m@final\u001b[39m\n\u001b[1;32m   1368\u001b[0m \u001b[39mdef\u001b[39;00m \u001b[39m_python_apply_general\u001b[39m(\n\u001b[1;32m   1369\u001b[0m     \u001b[39mself\u001b[39m,\n\u001b[0;32m   (...)\u001b[0m\n\u001b[1;32m   1374\u001b[0m     is_agg: \u001b[39mbool\u001b[39m \u001b[39m=\u001b[39m \u001b[39mFalse\u001b[39;00m,\n\u001b[1;32m   1375\u001b[0m ) \u001b[39m-\u001b[39m\u001b[39m>\u001b[39m NDFrameT:\n\u001b[1;32m   1376\u001b[0m \u001b[39m    \u001b[39m\u001b[39m\"\"\"\u001b[39;00m\n\u001b[1;32m   1377\u001b[0m \u001b[39m    Apply function f in python space\u001b[39;00m\n\u001b[1;32m   1378\u001b[0m \n\u001b[0;32m   (...)\u001b[0m\n\u001b[1;32m   1400\u001b[0m \u001b[39m        data after applying f\u001b[39;00m\n\u001b[1;32m   1401\u001b[0m \u001b[39m    \"\"\"\u001b[39;00m\n\u001b[0;32m-> 1402\u001b[0m     values, mutated \u001b[39m=\u001b[39m \u001b[39mself\u001b[39;49m\u001b[39m.\u001b[39;49mgrouper\u001b[39m.\u001b[39;49mapply(f, data, \u001b[39mself\u001b[39;49m\u001b[39m.\u001b[39;49maxis)\n\u001b[1;32m   1403\u001b[0m     \u001b[39mif\u001b[39;00m not_indexed_same \u001b[39mis\u001b[39;00m \u001b[39mNone\u001b[39;00m:\n\u001b[1;32m   1404\u001b[0m         not_indexed_same \u001b[39m=\u001b[39m mutated\n",
      "File \u001b[0;32m~/miniconda3/envs/xmodel/lib/python3.9/site-packages/pandas/core/groupby/ops.py:767\u001b[0m, in \u001b[0;36mBaseGrouper.apply\u001b[0;34m(self, f, data, axis)\u001b[0m\n\u001b[1;32m    765\u001b[0m \u001b[39m# group might be modified\u001b[39;00m\n\u001b[1;32m    766\u001b[0m group_axes \u001b[39m=\u001b[39m group\u001b[39m.\u001b[39maxes\n\u001b[0;32m--> 767\u001b[0m res \u001b[39m=\u001b[39m f(group)\n\u001b[1;32m    768\u001b[0m \u001b[39mif\u001b[39;00m \u001b[39mnot\u001b[39;00m mutated \u001b[39mand\u001b[39;00m \u001b[39mnot\u001b[39;00m _is_indexed_like(res, group_axes, axis):\n\u001b[1;32m    769\u001b[0m     mutated \u001b[39m=\u001b[39m \u001b[39mTrue\u001b[39;00m\n",
      "\u001b[1;32m/Midgard/home/amirme/an_explanation_model/experiments/experiment_6_1.ipynb Cell 7\u001b[0m line \u001b[0;36m7\n\u001b[1;32m      <a href='vscode-notebook-cell://ssh-remote%2Bslurmcluster/Midgard/home/amirme/an_explanation_model/experiments/experiment_6_1.ipynb#W6sdnNjb2RlLXJlbW90ZQ%3D%3D?line=4'>5</a>\u001b[0m explanations_temp\u001b[39m.\u001b[39mname \u001b[39m=\u001b[39m \u001b[39m\"\u001b[39m\u001b[39mgrad_mask\u001b[39m\u001b[39m\"\u001b[39m\n\u001b[1;32m      <a href='vscode-notebook-cell://ssh-remote%2Bslurmcluster/Midgard/home/amirme/an_explanation_model/experiments/experiment_6_1.ipynb#W6sdnNjb2RlLXJlbW90ZQ%3D%3D?line=5'>6</a>\u001b[0m explanations_temp \u001b[39m=\u001b[39m explanations_temp\u001b[39m.\u001b[39mreset_index()\n\u001b[0;32m----> <a href='vscode-notebook-cell://ssh-remote%2Bslurmcluster/Midgard/home/amirme/an_explanation_model/experiments/experiment_6_1.ipynb#W6sdnNjb2RlLXJlbW90ZQ%3D%3D?line=6'>7</a>\u001b[0m explanations_temp \u001b[39m=\u001b[39m explanations_temp\u001b[39m.\u001b[39mgroupby(\u001b[39m\"\u001b[39m\u001b[39mimage_index\u001b[39m\u001b[39m\"\u001b[39m,as_index\u001b[39m=\u001b[39m\u001b[39mFalse\u001b[39;00m)\u001b[39m.\u001b[39mapply(\u001b[39mlambda\u001b[39;00m x:spectral_lens(x))\n",
      "\u001b[1;32m/Midgard/home/amirme/an_explanation_model/experiments/experiment_6_1.ipynb Cell 7\u001b[0m line \u001b[0;36m5\n\u001b[1;32m      <a href='vscode-notebook-cell://ssh-remote%2Bslurmcluster/Midgard/home/amirme/an_explanation_model/experiments/experiment_6_1.ipynb#W6sdnNjb2RlLXJlbW90ZQ%3D%3D?line=2'>3</a>\u001b[0m image \u001b[39m=\u001b[39m np\u001b[39m.\u001b[39mstack(image[\u001b[39m\"\u001b[39m\u001b[39mgrad_mask\u001b[39m\u001b[39m\"\u001b[39m]\u001b[39m.\u001b[39mvalues)\n\u001b[1;32m      <a href='vscode-notebook-cell://ssh-remote%2Bslurmcluster/Midgard/home/amirme/an_explanation_model/experiments/experiment_6_1.ipynb#W6sdnNjb2RlLXJlbW90ZQ%3D%3D?line=3'>4</a>\u001b[0m \u001b[39mprint\u001b[39m(\u001b[39m\"\u001b[39m\u001b[39mshape \u001b[39m\u001b[39m\"\u001b[39m,image\u001b[39m.\u001b[39mshape)\n\u001b[0;32m----> <a href='vscode-notebook-cell://ssh-remote%2Bslurmcluster/Midgard/home/amirme/an_explanation_model/experiments/experiment_6_1.ipynb#W6sdnNjb2RlLXJlbW90ZQ%3D%3D?line=4'>5</a>\u001b[0m image \u001b[39m=\u001b[39m  amplitude \u001b[39m*\u001b[39;49m image\n\u001b[1;32m      <a href='vscode-notebook-cell://ssh-remote%2Bslurmcluster/Midgard/home/amirme/an_explanation_model/experiments/experiment_6_1.ipynb#W6sdnNjb2RlLXJlbW90ZQ%3D%3D?line=5'>6</a>\u001b[0m \u001b[39mprint\u001b[39m(\u001b[39m\"\u001b[39m\u001b[39mshape \u001b[39m\u001b[39m\"\u001b[39m,image\u001b[39m.\u001b[39mshape)\n\u001b[1;32m      <a href='vscode-notebook-cell://ssh-remote%2Bslurmcluster/Midgard/home/amirme/an_explanation_model/experiments/experiment_6_1.ipynb#W6sdnNjb2RlLXJlbW90ZQ%3D%3D?line=6'>7</a>\u001b[0m image \u001b[39m=\u001b[39m image\u001b[39m.\u001b[39msum(axis\u001b[39m=\u001b[39m\u001b[39m0\u001b[39m)\n",
      "\u001b[0;31mValueError\u001b[0m: operands could not be broadcast together with shapes (7,) (7,224,224,3) "
     ]
    }
   ],
   "source": [
    "image_indices = [7,14,41,20]\n",
    "explanations_temp = project_metadata.loc[(\"vanilla_grad_mask\", \"meanx2\", image_indices, \"gaussian\"), \"data_path\"]\n",
    "explanations_temp = explanations_temp.droplevel([\"stream_name\",\"stream_statistic\",\"baseline_mask_type\"])\n",
    "explanations_temp = explanations_temp.apply(np.load)\n",
    "explanations_temp.name = \"grad_mask\"\n",
    "explanations_temp = explanations_temp.reset_index()\n",
    "explanations_temp = explanations_temp.groupby(\"image_index\",as_index=False).apply(lambda x:spectral_lens(x))"
   ]
  },
  {
   "cell_type": "code",
   "execution_count": null,
   "metadata": {},
   "outputs": [],
   "source": []
  }
 ],
 "metadata": {
  "kernelspec": {
   "display_name": "Python 3 (ipykernel)",
   "language": "python",
   "name": "python3"
  },
  "language_info": {
   "codemirror_mode": {
    "name": "ipython",
    "version": 3
   },
   "file_extension": ".py",
   "mimetype": "text/x-python",
   "name": "python",
   "nbconvert_exporter": "python",
   "pygments_lexer": "ipython3",
   "version": "3.9.16"
  }
 },
 "nbformat": 4,
 "nbformat_minor": 2
}
