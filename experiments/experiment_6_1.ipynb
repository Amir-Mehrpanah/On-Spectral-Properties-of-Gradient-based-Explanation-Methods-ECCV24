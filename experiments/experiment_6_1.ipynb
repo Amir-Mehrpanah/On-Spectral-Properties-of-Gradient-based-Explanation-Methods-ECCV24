{
 "cells": [
  {
   "cell_type": "code",
   "execution_count": 2,
   "metadata": {},
   "outputs": [
    {
     "name": "stdout",
     "output_type": "stream",
     "text": [
      "/Midgard/home/amirme/an_explanation_model\n"
     ]
    }
   ],
   "source": [
    "%cd /Midgard/home/amirme/an_explanation_model"
   ]
  },
  {
   "cell_type": "code",
   "execution_count": 3,
   "metadata": {},
   "outputs": [
    {
     "name": "stderr",
     "output_type": "stream",
     "text": [
      "2023-11-07 12:24:14.654238: I tensorflow/core/platform/cpu_feature_guard.cc:182] This TensorFlow binary is optimized to use available CPU instructions in performance-critical operations.\n",
      "To enable the following instructions: AVX2 FMA, in other operations, rebuild TensorFlow with the appropriate compiler flags.\n",
      "2023-11-07 12:24:20.418693: W tensorflow/compiler/tf2tensorrt/utils/py_utils.cc:38] TF-TRT Warning: Could not find TensorRT\n"
     ]
    }
   ],
   "source": [
    "import pandas as pd\n",
    "import seaborn as sns\n",
    "import matplotlib.pyplot as plt\n",
    "import numpy as np\n",
    "import os\n",
    "from functools import partial\n",
    "\n",
    "from source.project_manager import (\n",
    "    load_experiment_inconsistency,\n",
    "    load_experiment_metadata,\n",
    "    delete_experiment_data,\n",
    "    check_file_exists,\n",
    ")\n",
    "from commands.experiment_6_1 import (\n",
    "    save_metadata_dir,\n",
    "    dataset_dir,\n",
    "    input_shape,\n",
    "    save_output_dir,\n",
    ")\n",
    "\n",
    "os.makedirs(save_output_dir, exist_ok=True)\n",
    "from source.data_manager import (\n",
    "    preprocess_masks,\n",
    "    plot_masks,\n",
    "    minmax_normalize,\n",
    "    sum_channels,\n",
    "    symmetric_minmax_normalize,\n",
    "    single_query_imagenet,\n",
    "    save_axis,\n",
    ")\n",
    "from source.labels import IMAGENET_LABELS\n",
    "\n",
    "imshow_args = {\"cmap\": \"jet\"}\n",
    "\n",
    "query_imagenet = partial(\n",
    "    single_query_imagenet, dataset_dir=dataset_dir, input_shape=input_shape\n",
    ")"
   ]
  },
  {
   "cell_type": "code",
   "execution_count": null,
   "metadata": {},
   "outputs": [
    {
     "name": "stdout",
     "output_type": "stream",
     "text": [
      "Index(['time_to_compute', 'batch_index', 'monitored_statistic_change',\n",
      "       'path_prefix', 'data_path', 'stream_name', 'stream_statistic',\n",
      "       'alpha_mask_type', 'alpha_mask_value', 'baseline_mask_type',\n",
      "       'projection_type', 'projection_distribution', 'projection_top_k',\n",
      "       'projection_index', 'label', 'architecture', 'method', 'output_layer',\n",
      "       'dataset', 'image_index', 'image_path', 'input_shape', 'num_classes',\n",
      "       'seed', 'batch_size', 'max_batches', 'min_change',\n",
      "       'metadata_file_path'],\n",
      "      dtype='object')\n",
      "(972, 23)\n"
     ]
    }
   ],
   "source": [
    "project_metadata = load_experiment_metadata(save_metadata_dir)\n",
    "print(project_metadata.columns)\n",
    "project_metadata = project_metadata.set_index(\n",
    "    [\n",
    "        \"stream_name\",\n",
    "        \"stream_statistic\",\n",
    "        \"image_index\",\n",
    "        \"baseline_mask_type\",\n",
    "        \"alpha_mask_value\",\n",
    "    ]\n",
    ").sort_index()\n",
    "print(project_metadata.shape)"
   ]
  },
  {
   "cell_type": "code",
   "execution_count": null,
   "metadata": {},
   "outputs": [
    {
     "name": "stdout",
     "output_type": "stream",
     "text": [
      "stream_name            stream_statistic  image_index  baseline_mask_type  alpha_mask_value\n",
      "log_probs              meanx             17           gaussian            0.00                1\n",
      "vanilla_grad_mask      meanx2            17           gaussian            0.20                1\n",
      "results_at_projection  meanx             70           gaussian            0.73                1\n",
      "                                                                          0.74                1\n",
      "                                                                          0.75                1\n",
      "                                                                                             ..\n",
      "                                         17           gaussian            0.04                1\n",
      "                                                                          0.05                1\n",
      "                                                                          0.06                1\n",
      "                                                                          0.07                1\n",
      "vanilla_grad_mask      meanx2            70           gaussian            0.80                1\n",
      "Name: count, Length: 972, dtype: int64\n",
      "972\n"
     ]
    }
   ],
   "source": [
    "vc = project_metadata.index.value_counts()\n",
    "print(vc)\n",
    "print(len(vc))\n",
    "image_indices = project_metadata.index.get_level_values(\"image_index\").unique()"
   ]
  },
  {
   "cell_type": "code",
   "execution_count": null,
   "metadata": {},
   "outputs": [
    {
     "name": "stdout",
     "output_type": "stream",
     "text": [
      "stream_name = {'log_probs': 324, 'results_at_projection': 324, 'vanilla_grad_mask': 324}\n",
      "stream_statistic = {'meanx': 648, 'meanx2': 324}\n",
      "image_index = {17: 243, 43: 243, 60: 243, 70: 243}\n",
      "baseline_mask_type = {'gaussian': 972}\n",
      "alpha_mask_value = {0.0: 12, 0.41: 12, 0.59: 12, 0.58: 12, 0.57: 12, 0.56: 12, 0.55: 12, 0.54: 12, 0.53: 12, 0.52: 12, 0.51: 12, 0.5: 12, 0.49: 12, 0.48: 12, 0.47: 12, 0.46: 12, 0.45: 12, 0.44: 12, 0.43: 12, 0.6: 12, 0.61: 12, 0.62: 12, 0.72: 12, 0.79: 12, 0.78: 12, 0.77: 12, 0.76: 12, 0.75: 12, 0.74: 12, 0.73: 12, 0.71: 12, 0.63: 12, 0.7: 12, 0.69: 12, 0.68: 12, 0.67: 12, 0.66: 12, 0.65: 12, 0.64: 12, 0.42: 12, 0.4: 12, 0.01: 12, 0.39: 12, 0.18: 12, 0.17: 12, 0.16: 12, 0.15: 12, 0.14: 12, 0.13: 12, 0.12: 12, 0.11: 12, 0.1: 12, 0.09: 12, 0.08: 12, 0.07: 12, 0.06: 12, 0.05: 12, 0.04: 12, 0.03: 12, 0.02: 12, 0.19: 12, 0.2: 12, 0.21: 12, 0.31: 12, 0.38: 12, 0.37: 12, 0.36: 12, 0.35: 12, 0.34: 12, 0.33: 12, 0.32: 12, 0.3: 12, 0.22: 12, 0.29: 12, 0.28: 12, 0.27: 12, 0.26: 12, 0.25: 12, 0.24: 12, 0.23: 12, 0.8: 12}\n"
     ]
    }
   ],
   "source": [
    "for name in project_metadata.index.names:\n",
    "    print(\n",
    "        name,\n",
    "        \"=\",\n",
    "        project_metadata.index.get_level_values(name).value_counts().to_dict(),\n",
    "    )"
   ]
  },
  {
   "cell_type": "code",
   "execution_count": null,
   "metadata": {},
   "outputs": [],
   "source": [
    "import functools\n",
    "\n",
    "\n",
    "def spectral_lens_argmax(data):\n",
    "    grad_max = np.load(data.iloc[0][\"grad_mask\"])\n",
    "    grad_max = sum_channels(grad_max)\n",
    "    grad_argmax = np.ones_like(grad_max) * -1\n",
    "    for id, row in data.iterrows():\n",
    "        temp_grad = np.load(row[\"grad_mask\"])\n",
    "        temp_grad = sum_channels(temp_grad)\n",
    "        grad_max_id = temp_grad > grad_max\n",
    "        grad_argmax[grad_max_id] = row[\"alpha_mask_value\"]\n",
    "        grad_max = np.maximum(grad_max, temp_grad)\n",
    "\n",
    "    assert (grad_argmax > -1).all()\n",
    "\n",
    "    assert grad_argmax.ndim == 3, f\"{grad_argmax.shape} must be 4d (H,W,C)\"\n",
    "    return grad_argmax\n",
    "\n",
    "\n",
    "def preprocess_masks(masks, preprocesses):\n",
    "    for preprocess in preprocesses:\n",
    "        masks = preprocess(masks)\n",
    "    return masks\n",
    "\n",
    "\n",
    "def spectral_lens_generic(data, func, perprocess):\n",
    "    init_val = np.load(data.iloc[0][\"grad_mask\"])\n",
    "    init_val = preprocess_masks(init_val, preprocesses=perprocess)\n",
    "\n",
    "    for id, row in data.iterrows():\n",
    "        temp_grad = np.load(row[\"grad_mask\"])\n",
    "        temp_grad = preprocess_masks(temp_grad, preprocesses=perprocess)\n",
    "        init_val = func(init_val, temp_grad)\n",
    "\n",
    "    assert init_val.ndim == 3, f\"{init_val.shape} must be 4d (H,W,C)\"\n",
    "\n",
    "    return init_val\n",
    "\n",
    "\n",
    "def spectral_lens_max(data):\n",
    "    grad_max = spectral_lens_generic(data, np.maximum, [sum_channels])\n",
    "    return grad_max\n",
    "\n",
    "\n",
    "def running_sum(init_val, temp_grad):\n",
    "    return init_val + temp_grad\n",
    "\n",
    "\n",
    "def div_by_sum(grad_mask, grad_sum):\n",
    "    return grad_mask / grad_sum\n",
    "\n",
    "\n",
    "def spectral_lens_negentropy(data):\n",
    "    def running_negentropy(init_val, temp_grad):\n",
    "        return init_val + temp_grad * np.log(temp_grad)\n",
    "\n",
    "    grad_sum = spectral_lens_generic(data, running_sum, [sum_channels])\n",
    "    div_by_sum_internal = functools.partial(div_by_sum, grad_sum=grad_sum)\n",
    "    grad_negentropy = spectral_lens_generic(\n",
    "        data, running_negentropy, [sum_channels, div_by_sum_internal]\n",
    "    )\n",
    "\n",
    "    assert grad_negentropy.ndim == 3, f\"{grad_negentropy.shape} must be 4d (H,W,C)\"\n",
    "    grad_negentropy = np.expand_dims(grad_negentropy, axis=0)\n",
    "    return -grad_negentropy\n",
    "\n",
    "\n",
    "def spectral_lens_sum(data):\n",
    "    grad_sum = spectral_lens_generic(data, running_sum, [sum_channels])\n",
    "    grad_sum = np.expand_dims(grad_sum, axis=0)\n",
    "    return grad_sum\n",
    "\n",
    "\n",
    "def spectral_lens_mean_freq(data):\n",
    "    def func(init_val, temp_grad, frequency):\n",
    "        return init_val + temp_grad * frequency\n",
    "\n",
    "    grad_sum = spectral_lens_generic(data, running_sum, [sum_channels])\n",
    "    div_by_sum_internal = functools.partial(div_by_sum, grad_sum=grad_sum)\n",
    "    perprocess = [sum_channels, div_by_sum_internal]\n",
    "\n",
    "    init_val = np.load(data.iloc[0][\"grad_mask\"])\n",
    "    init_val = np.zeros_like(sum_channels(init_val))\n",
    "\n",
    "    for id, row in data.iterrows():\n",
    "        temp_grad = np.load(row[\"grad_mask\"])\n",
    "        temp_grad = preprocess_masks(temp_grad, preprocesses=perprocess)\n",
    "        init_val = func(init_val, temp_grad, row[\"alpha_mask_value\"])\n",
    "\n",
    "    assert init_val.ndim == 3, f\"{init_val.shape} must be 4d (H,W,C)\"\n",
    "    init_val = np.expand_dims(init_val, axis=0)\n",
    "    return init_val\n",
    "\n",
    "\n",
    "def spectral_lens_negvar(data):\n",
    "    grad_mean = spectral_lens_generic(data, running_sum, [sum_channels])\n",
    "    grad_var = spectral_lens_generic(\n",
    "        data, running_sum, [sum_channels, lambda x: x**2]\n",
    "    )\n",
    "    grad_mean = grad_mean / len(data)\n",
    "    grad_var = grad_var / len(data) - grad_mean**2\n",
    "    grad_var = np.expand_dims(grad_var, axis=0)\n",
    "    return grad_var"
   ]
  },
  {
   "cell_type": "code",
   "execution_count": null,
   "metadata": {},
   "outputs": [],
   "source": [
    "image_indices = project_metadata.index.get_level_values(\"image_index\").unique()\n",
    "explanations_temp = project_metadata.loc[\n",
    "    (\"vanilla_grad_mask\", \"meanx2\", image_indices, \"gaussian\", slice(None)), \"data_path\"\n",
    "]\n",
    "explanations_temp = explanations_temp.droplevel(\n",
    "    [\"stream_name\", \"stream_statistic\", \"baseline_mask_type\"]\n",
    ")\n",
    "explanations_temp.name = \"grad_mask\"\n",
    "explanations_temp.sort_index(inplace=True)\n",
    "explanations_temp = explanations_temp.reset_index()\n",
    "# explanations_argmax = explanations_temp.groupby(\"image_index\", as_index=False).apply(\n",
    "#     spectral_lens_argmax\n",
    "# )\n",
    "# explanations_max = explanations_temp.groupby(\"image_index\",as_index=False).apply(spectral_lens_max)\n",
    "explanations_negentropy = explanations_temp.groupby(\n",
    "    \"image_index\", as_index=False\n",
    ").apply(spectral_lens_negentropy)\n",
    "# explanations_mean = explanations_temp.groupby(\"image_index\",as_index=False).apply(spectral_lens_mean)\n",
    "# explanations_negvar = explanations_temp.groupby(\"image_index\",as_index=False).apply(spectral_lens_negvar)\n",
    "# explanations_sum = explanations_temp.groupby(\"image_index\", as_index=False).apply(\n",
    "#     spectral_lens_sum\n",
    "# )\n",
    "explanations_mean_freq = explanations_temp.groupby(\n",
    "    \"image_index\", as_index=False\n",
    ").apply(spectral_lens_mean_freq)"
   ]
  },
  {
   "cell_type": "code",
   "execution_count": null,
   "metadata": {},
   "outputs": [
    {
     "name": "stderr",
     "output_type": "stream",
     "text": [
      "2023-11-07 11:43:39.899464: E tensorflow/compiler/xla/stream_executor/cuda/cuda_driver.cc:266] failed call to cuInit: CUDA_ERROR_NO_DEVICE: no CUDA-capable device is detected\n",
      "2023-11-07 11:43:39.899515: I tensorflow/compiler/xla/stream_executor/cuda/cuda_diagnostics.cc:168] retrieving CUDA diagnostic information for host: gondor\n",
      "2023-11-07 11:43:39.899526: I tensorflow/compiler/xla/stream_executor/cuda/cuda_diagnostics.cc:175] hostname: gondor\n",
      "2023-11-07 11:43:39.899610: I tensorflow/compiler/xla/stream_executor/cuda/cuda_diagnostics.cc:199] libcuda reported version is: 525.89.2\n",
      "2023-11-07 11:43:39.899632: I tensorflow/compiler/xla/stream_executor/cuda/cuda_diagnostics.cc:203] kernel reported version is: 525.89.2\n",
      "2023-11-07 11:43:39.899638: I tensorflow/compiler/xla/stream_executor/cuda/cuda_diagnostics.cc:309] kernel version seems to match DSO: 525.89.2\n",
      "2023-11-07 11:43:40.021939: I tensorflow/core/common_runtime/executor.cc:1197] [/device:CPU:0] (DEBUG INFO) Executor start aborting (this does not indicate an error and you can ignore this message): INVALID_ARGUMENT: You must feed a value for placeholder tensor 'Placeholder/_1' with dtype int32 and shape [50000]\n",
      "\t [[{{node Placeholder/_1}}]]\n",
      "2023-11-07 11:43:40.022238: I tensorflow/core/common_runtime/executor.cc:1197] [/device:CPU:0] (DEBUG INFO) Executor start aborting (this does not indicate an error and you can ignore this message): INVALID_ARGUMENT: You must feed a value for placeholder tensor 'Placeholder/_1' with dtype int32 and shape [50000]\n",
      "\t [[{{node Placeholder/_1}}]]\n"
     ]
    }
   ],
   "source": [
    "# original_image, label, image_path = query_imagenet(image_index=43)"
   ]
  },
  {
   "cell_type": "code",
   "execution_count": null,
   "metadata": {},
   "outputs": [
    {
     "ename": "NameError",
     "evalue": "name 'image_indices' is not defined",
     "output_type": "error",
     "traceback": [
      "\u001b[0;31m---------------------------------------------------------------------------\u001b[0m",
      "\u001b[0;31mNameError\u001b[0m                                 Traceback (most recent call last)",
      "\u001b[1;32m/Midgard/home/amirme/an_explanation_model/experiments/experiment_6_1.ipynb Cell 9\u001b[0m line \u001b[0;36m2\n\u001b[1;32m      <a href='vscode-notebook-cell://ssh-remote%2Bslurmcluster/Midgard/home/amirme/an_explanation_model/experiments/experiment_6_1.ipynb#X13sdnNjb2RlLXJlbW90ZQ%3D%3D?line=0'>1</a>\u001b[0m n_cols \u001b[39m=\u001b[39m \u001b[39m3\u001b[39m\n\u001b[0;32m----> <a href='vscode-notebook-cell://ssh-remote%2Bslurmcluster/Midgard/home/amirme/an_explanation_model/experiments/experiment_6_1.ipynb#X13sdnNjb2RlLXJlbW90ZQ%3D%3D?line=1'>2</a>\u001b[0m n_rows \u001b[39m=\u001b[39m \u001b[39mlen\u001b[39m(image_indices)\n\u001b[1;32m      <a href='vscode-notebook-cell://ssh-remote%2Bslurmcluster/Midgard/home/amirme/an_explanation_model/experiments/experiment_6_1.ipynb#X13sdnNjb2RlLXJlbW90ZQ%3D%3D?line=2'>3</a>\u001b[0m fig, axes \u001b[39m=\u001b[39m plt\u001b[39m.\u001b[39msubplots(\n\u001b[1;32m      <a href='vscode-notebook-cell://ssh-remote%2Bslurmcluster/Midgard/home/amirme/an_explanation_model/experiments/experiment_6_1.ipynb#X13sdnNjb2RlLXJlbW90ZQ%3D%3D?line=3'>4</a>\u001b[0m     n_rows,\n\u001b[1;32m      <a href='vscode-notebook-cell://ssh-remote%2Bslurmcluster/Midgard/home/amirme/an_explanation_model/experiments/experiment_6_1.ipynb#X13sdnNjb2RlLXJlbW90ZQ%3D%3D?line=4'>5</a>\u001b[0m     n_cols,\n\u001b[1;32m      <a href='vscode-notebook-cell://ssh-remote%2Bslurmcluster/Midgard/home/amirme/an_explanation_model/experiments/experiment_6_1.ipynb#X13sdnNjb2RlLXJlbW90ZQ%3D%3D?line=5'>6</a>\u001b[0m     figsize\u001b[39m=\u001b[39m(\u001b[39m5\u001b[39m \u001b[39m*\u001b[39m n_cols, \u001b[39m5\u001b[39m \u001b[39m*\u001b[39m n_rows),\n\u001b[1;32m      <a href='vscode-notebook-cell://ssh-remote%2Bslurmcluster/Midgard/home/amirme/an_explanation_model/experiments/experiment_6_1.ipynb#X13sdnNjb2RlLXJlbW90ZQ%3D%3D?line=6'>7</a>\u001b[0m )\n\u001b[1;32m      <a href='vscode-notebook-cell://ssh-remote%2Bslurmcluster/Midgard/home/amirme/an_explanation_model/experiments/experiment_6_1.ipynb#X13sdnNjb2RlLXJlbW90ZQ%3D%3D?line=7'>8</a>\u001b[0m axes \u001b[39m=\u001b[39m axes\u001b[39m.\u001b[39mflatten()\n",
      "\u001b[0;31mNameError\u001b[0m: name 'image_indices' is not defined"
     ]
    }
   ],
   "source": [
    "n_cols = 3\n",
    "n_rows = len(image_indices)\n",
    "fig, axes = plt.subplots(\n",
    "    n_rows,\n",
    "    n_cols,\n",
    "    figsize=(5 * n_cols, 5 * n_rows),\n",
    ")\n",
    "axes = axes.flatten()\n",
    "i = 0\n",
    "for image_index, explanation_negentropy,explanation_mean_freq in zip(image_indices, explanations_negentropy,explanations_mean_freq):\n",
    "    if i >= axes.size:\n",
    "        break\n",
    "    original_image, label, image_path = query_imagenet(image_index=image_index)\n",
    "\n",
    "    axes[0].imshow(np.squeeze(original_image))\n",
    "    axes[0].set_title(f\"ImageNet label: {IMAGENET_LABELS[label]}\")\n",
    "\n",
    "    explanation_negentropy = minmax_normalize(explanation_negentropy)\n",
    "    axes[1].imshow(explanation_negentropy.squeeze(), cmap=\"jet\")\n",
    "    axes[1].set_title(\"negative entropy\")\n",
    "\n",
    "    explanation_mean_freq = minmax_normalize(explanation_mean_freq)\n",
    "    axes[2].imshow(explanation_mean_freq.squeeze(), cmap=\"jet\")\n",
    "    axes[2].set_title(\"mean frequency\")\n",
    "\n",
    "    i += 3\n",
    "\n",
    "plt.show()"
   ]
  }
 ],
 "metadata": {
  "kernelspec": {
   "display_name": "Python 3 (ipykernel)",
   "language": "python",
   "name": "python3"
  },
  "language_info": {
   "codemirror_mode": {
    "name": "ipython",
    "version": 3
   },
   "file_extension": ".py",
   "mimetype": "text/x-python",
   "name": "python",
   "nbconvert_exporter": "python",
   "pygments_lexer": "ipython3",
   "version": "3.9.16"
  }
 },
 "nbformat": 4,
 "nbformat_minor": 2
}
