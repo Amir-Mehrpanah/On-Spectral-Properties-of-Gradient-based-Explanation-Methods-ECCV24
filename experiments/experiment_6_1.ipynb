{
 "cells": [
  {
   "cell_type": "code",
   "execution_count": 1,
   "metadata": {},
   "outputs": [
    {
     "name": "stdout",
     "output_type": "stream",
     "text": [
      "/Midgard/home/amirme/an_explanation_model\n"
     ]
    }
   ],
   "source": [
    "%cd /Midgard/home/amirme/an_explanation_model"
   ]
  },
  {
   "cell_type": "code",
   "execution_count": 1,
   "metadata": {},
   "outputs": [
    {
     "name": "stderr",
     "output_type": "stream",
     "text": [
      "2023-10-29 16:34:10.028194: I tensorflow/core/platform/cpu_feature_guard.cc:182] This TensorFlow binary is optimized to use available CPU instructions in performance-critical operations.\n",
      "To enable the following instructions: AVX2 FMA, in other operations, rebuild TensorFlow with the appropriate compiler flags.\n",
      "2023-10-29 16:34:16.769728: W tensorflow/compiler/tf2tensorrt/utils/py_utils.cc:38] TF-TRT Warning: Could not find TensorRT\n",
      "/Midgard/home/amirme/miniconda3/envs/xmodel/lib/python3.9/site-packages/tqdm/auto.py:21: TqdmWarning: IProgress not found. Please update jupyter and ipywidgets. See https://ipywidgets.readthedocs.io/en/stable/user_install.html\n",
      "  from .autonotebook import tqdm as notebook_tqdm\n"
     ]
    }
   ],
   "source": [
    "import pandas as pd\n",
    "import seaborn as sns\n",
    "import matplotlib.pyplot as plt\n",
    "import numpy as np\n",
    "import os\n",
    "from functools import partial\n",
    "\n",
    "from source.project_manager import (\n",
    "    load_experiment_inconsistency,\n",
    "    load_experiment_metadata,\n",
    "    delete_experiment_data,\n",
    "    check_file_exists,\n",
    ")\n",
    "from commands.experiment_6_0 import (\n",
    "    save_metadata_dir,\n",
    "    dataset_dir,\n",
    "    input_shape,\n",
    "    save_output_dir,\n",
    ")\n",
    "os.makedirs(save_output_dir, exist_ok=True)\n",
    "from source.data_manager import (\n",
    "    preprocess_masks,\n",
    "    plot_masks,\n",
    "    minmax_normalize,\n",
    "    sum_channels,\n",
    "    symmetric_minmax_normalize,\n",
    "    single_query_imagenet,\n",
    "    save_axis,\n",
    ")\n",
    "from source.labels import IMAGENET_LABELS\n",
    "\n",
    "imshow_args = {\"cmap\": \"jet\"}\n",
    "\n",
    "query_imagenet = partial(\n",
    "    single_query_imagenet, dataset_dir=dataset_dir, input_shape=input_shape\n",
    ")"
   ]
  },
  {
   "cell_type": "code",
   "execution_count": 2,
   "metadata": {},
   "outputs": [
    {
     "name": "stdout",
     "output_type": "stream",
     "text": [
      "Index(['time_to_compute', 'batch_index', 'monitored_statistic_change',\n",
      "       'path_prefix', 'data_path', 'stream_name', 'stream_statistic',\n",
      "       'alpha_mask_type', 'alpha_mask_value', 'baseline_mask_type',\n",
      "       'projection_type', 'projection_distribution', 'projection_top_k',\n",
      "       'projection_index', 'label', 'architecture', 'method', 'output_layer',\n",
      "       'dataset', 'image_index', 'input_shape', 'num_classes', 'seed',\n",
      "       'batch_size', 'max_batches', 'min_change', 'metadata_file_path'],\n",
      "      dtype='object')\n",
      "(2100, 22)\n"
     ]
    }
   ],
   "source": [
    "project_metadata = load_experiment_metadata(save_metadata_dir)\n",
    "print(project_metadata.columns)\n",
    "project_metadata = project_metadata.set_index(\n",
    "    [\n",
    "        \"stream_name\",\n",
    "        \"stream_statistic\",\n",
    "        \"image_index\",\n",
    "        \"baseline_mask_type\",\n",
    "        \"alpha_mask_value\",\n",
    "    ]\n",
    ").sort_index()\n",
    "print(project_metadata.shape)"
   ]
  },
  {
   "cell_type": "code",
   "execution_count": 3,
   "metadata": {},
   "outputs": [
    {
     "name": "stdout",
     "output_type": "stream",
     "text": [
      "stream_name        stream_statistic  image_index  baseline_mask_type  alpha_mask_value\n",
      "log_probs          meanx             1            gaussian            0.0                 1\n",
      "vanilla_grad_mask  meanx2            2            gaussian            0.4                 1\n",
      "                                                                      0.2                 1\n",
      "                                                                      0.1                 1\n",
      "                                                                      0.0                 1\n",
      "                                                                                         ..\n",
      "log_probs          meanx             100          gaussian            0.1                 1\n",
      "                                                                      0.0                 1\n",
      "                                     99           gaussian            0.6                 1\n",
      "                                                                      0.5                 1\n",
      "vanilla_grad_mask  meanx2            100          gaussian            0.6                 1\n",
      "Name: count, Length: 2100, dtype: int64\n",
      "2100\n"
     ]
    }
   ],
   "source": [
    "vc = project_metadata.index.value_counts()\n",
    "print(vc)\n",
    "print(len(vc))\n",
    "image_indices = project_metadata.index.get_level_values(\"image_index\").unique()"
   ]
  },
  {
   "cell_type": "code",
   "execution_count": 4,
   "metadata": {},
   "outputs": [
    {
     "name": "stdout",
     "output_type": "stream",
     "text": [
      "stream_name = {'log_probs': 700, 'results_at_projection': 700, 'vanilla_grad_mask': 700}\n",
      "stream_statistic = {'meanx': 1400, 'meanx2': 700}\n",
      "image_index = {1: 21, 64: 21, 74: 21, 73: 21, 72: 21, 71: 21, 70: 21, 69: 21, 68: 21, 67: 21, 66: 21, 65: 21, 63: 21, 2: 21, 62: 21, 61: 21, 60: 21, 59: 21, 58: 21, 57: 21, 56: 21, 55: 21, 54: 21, 53: 21, 75: 21, 76: 21, 77: 21, 78: 21, 99: 21, 98: 21, 97: 21, 96: 21, 95: 21, 94: 21, 93: 21, 92: 21, 91: 21, 90: 21, 89: 21, 88: 21, 87: 21, 86: 21, 85: 21, 84: 21, 83: 21, 82: 21, 81: 21, 80: 21, 79: 21, 52: 21, 51: 21, 50: 21, 25: 21, 23: 21, 22: 21, 21: 21, 20: 21, 19: 21, 18: 21, 17: 21, 16: 21, 15: 21, 14: 21, 13: 21, 12: 21, 11: 21, 10: 21, 9: 21, 8: 21, 7: 21, 6: 21, 5: 21, 4: 21, 3: 21, 24: 21, 26: 21, 49: 21, 27: 21, 48: 21, 47: 21, 46: 21, 45: 21, 44: 21, 43: 21, 42: 21, 41: 21, 40: 21, 39: 21, 38: 21, 37: 21, 36: 21, 35: 21, 34: 21, 33: 21, 32: 21, 31: 21, 30: 21, 29: 21, 28: 21, 100: 21}\n",
      "baseline_mask_type = {'gaussian': 2100}\n",
      "alpha_mask_value = {0.0: 300, 0.1: 300, 0.2: 300, 0.3: 300, 0.4: 300, 0.5: 300, 0.6: 300}\n"
     ]
    }
   ],
   "source": [
    "for name in project_metadata.index.names:\n",
    "    print(name,\"=\",project_metadata.index.get_level_values(name).value_counts().to_dict())"
   ]
  },
  {
   "cell_type": "code",
   "execution_count": 5,
   "metadata": {},
   "outputs": [],
   "source": [
    "def spectral_lens(data):\n",
    "    image = preprocess_masks(\n",
    "        data[\"grad_mask\"], preprocesses=[sum_channels, minmax_normalize]\n",
    "    )\n",
    "    image = np.stack(image)\n",
    "    assert image.ndim == 4, f\"{image.shape} must be 4d (T,H,W,C)\"\n",
    "    image = image.argmax(axis=0)\n",
    "    return image"
   ]
  },
  {
   "cell_type": "code",
   "execution_count": 11,
   "metadata": {},
   "outputs": [],
   "source": [
    "image_indices = [7,19,20,43,70,90]\n",
    "explanations_temp = project_metadata.loc[(\"vanilla_grad_mask\", \"meanx2\", image_indices, \"gaussian\",slice(None)), \"data_path\"]\n",
    "explanations_temp = explanations_temp.droplevel([\"stream_name\",\"stream_statistic\",\"baseline_mask_type\"])\n",
    "explanations_temp = explanations_temp.apply(np.load)\n",
    "explanations_temp.name = \"grad_mask\"\n",
    "explanations_temp.sort_index(inplace=True)\n",
    "explanations_temp = explanations_temp.reset_index()\n",
    "explanations_temp = explanations_temp.groupby(\"image_index\",as_index=False).apply(lambda x:spectral_lens(x))"
   ]
  },
  {
   "cell_type": "code",
   "execution_count": 12,
   "metadata": {},
   "outputs": [
    {
     "name": "stderr",
     "output_type": "stream",
     "text": [
      "2023-10-29 16:38:02.591047: I tensorflow/core/common_runtime/executor.cc:1197] [/device:CPU:0] (DEBUG INFO) Executor start aborting (this does not indicate an error and you can ignore this message): INVALID_ARGUMENT: You must feed a value for placeholder tensor 'Placeholder/_1' with dtype int32 and shape [50000]\n",
      "\t [[{{node Placeholder/_1}}]]\n",
      "2023-10-29 16:38:02.591642: I tensorflow/core/common_runtime/executor.cc:1197] [/device:CPU:0] (DEBUG INFO) Executor start aborting (this does not indicate an error and you can ignore this message): INVALID_ARGUMENT: You must feed a value for placeholder tensor 'Placeholder/_1' with dtype int32 and shape [50000]\n",
      "\t [[{{node Placeholder/_1}}]]\n",
      "2023-10-29 16:38:16.842877: I tensorflow/core/common_runtime/executor.cc:1197] [/device:CPU:0] (DEBUG INFO) Executor start aborting (this does not indicate an error and you can ignore this message): INVALID_ARGUMENT: You must feed a value for placeholder tensor 'Placeholder/_1' with dtype int32 and shape [50000]\n",
      "\t [[{{node Placeholder/_1}}]]\n",
      "2023-10-29 16:38:16.875866: I tensorflow/core/common_runtime/executor.cc:1197] [/device:CPU:0] (DEBUG INFO) Executor start aborting (this does not indicate an error and you can ignore this message): INVALID_ARGUMENT: You must feed a value for placeholder tensor 'Placeholder/_1' with dtype int32 and shape [50000]\n",
      "\t [[{{node Placeholder/_1}}]]\n"
     ]
    },
    {
     "ename": "",
     "evalue": "",
     "output_type": "error",
     "traceback": [
      "\u001b[1;31mThe Kernel crashed while executing code in the the current cell or a previous cell. Please review the code in the cell(s) to identify a possible cause of the failure. Click <a href='https://aka.ms/vscodeJupyterKernelCrash'>here</a> for more info. View Jupyter <a href='command:jupyter.viewOutput'>log</a> for further details."
     ]
    },
    {
     "ename": "",
     "evalue": "",
     "output_type": "error",
     "traceback": [
      "\u001b[1;31mCanceled future for execute_request message before replies were done"
     ]
    }
   ],
   "source": [
    "n_cols = 4\n",
    "n_rows = np.ceil(2 * len(image_indices) // n_cols).astype(int)\n",
    "fig, axes = plt.subplots(\n",
    "    n_rows,\n",
    "    n_cols,\n",
    "    figsize=(5 * n_cols, 5 * n_rows),\n",
    ")\n",
    "axes = axes.flatten()\n",
    "i = 0\n",
    "for image_index, explanation in zip(image_indices, explanations_temp):\n",
    "    if i >= axes.size:\n",
    "        break\n",
    "    original_image, label, image_path = query_imagenet(image_index=image_index)\n",
    "\n",
    "    axes[i].imshow(explanation, **imshow_args)\n",
    "    axes[i].set_title(f\"{i} image_index {image_index} spectral lens\")\n",
    "    axes[i + 1].imshow(original_image.squeeze())\n",
    "    axes[i + 1].set_title(f\"{i+1} image_index {image_index} original\")\n",
    "    i += 2\n",
    "    \n",
    "plt.show()"
   ]
  },
  {
   "cell_type": "code",
   "execution_count": null,
   "metadata": {},
   "outputs": [],
   "source": []
  }
 ],
 "metadata": {
  "kernelspec": {
   "display_name": "Python 3 (ipykernel)",
   "language": "python",
   "name": "python3"
  },
  "language_info": {
   "codemirror_mode": {
    "name": "ipython",
    "version": 3
   },
   "file_extension": ".py",
   "mimetype": "text/x-python",
   "name": "python",
   "nbconvert_exporter": "python",
   "pygments_lexer": "ipython3",
   "version": "3.9.16"
  }
 },
 "nbformat": 4,
 "nbformat_minor": 2
}
