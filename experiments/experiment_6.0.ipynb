{
 "cells": [
  {
   "cell_type": "code",
   "execution_count": null,
   "metadata": {},
   "outputs": [],
   "source": [
    "import pandas as pd\n",
    "import seaborn as sns\n",
    "import matplotlib.pyplot as plt\n",
    "import numpy as np\n",
    "\n",
    "%cd /Midgard/home/amirme/an_explanation_model\n",
    "from source.project_manager import (\n",
    "    load_experiment_metadata,\n",
    "    delete_experiment_data,\n",
    "    check_file_exists,\n",
    ")\n",
    "from source.data_manager import preprocess_masks,plot_masks,minmax_normalize,sum_channels,symmetric_minmax_normalize\n",
    "from source.labels import IMAGENET_LABELS\n",
    "imshow_args = {\"cmap\": \"viridis\" , \"vmin\": 0, \"vmax\": 1}"
   ]
  }
 ],
 "metadata": {
  "language_info": {
   "name": "python"
  }
 },
 "nbformat": 4,
 "nbformat_minor": 2
}
