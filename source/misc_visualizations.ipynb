{
 "cells": [
  {
   "cell_type": "code",
   "execution_count": 1,
   "metadata": {},
   "outputs": [
    {
     "name": "stdout",
     "output_type": "stream",
     "text": [
      "/proj/azizpour-group/users/x_amime/projects/an_explanation_model\n"
     ]
    },
    {
     "name": "stderr",
     "output_type": "stream",
     "text": [
      "/home/x_amime/x_amime/envs/.conda/envs/xlab/lib/python3.10/site-packages/IPython/core/magics/osm.py:417: UserWarning: using dhist requires you to install the `pickleshare` library.\n",
      "  self.shell.db['dhist'] = compress_dhist(dhist)[-100:]\n"
     ]
    }
   ],
   "source": [
    "import numpy as np\n",
    "import matplotlib.pyplot as plt\n",
    "import argparse\n",
    "%cd /proj/azizpour-group/users/x_amime/projects/an_explanation_model"
   ]
  },
  {
   "cell_type": "code",
   "execution_count": 16,
   "metadata": {},
   "outputs": [],
   "source": [
    "x = np.linspace(0, 2.5, 100)\n",
    "a = np.array([.10, .15, .2])\n",
    "f = lambda x,a: x*x*np.exp(-8*np.pi*np.pi*a*a*x*x)\n",
    "y = np.array([f(x, a_i) for a_i in a])"
   ]
  },
  {
   "cell_type": "code",
   "execution_count": 17,
   "metadata": {},
   "outputs": [
    {
     "data": {
      "image/png": "[encoded data removed]",
      "text/plain": [
       "<Figure size 550x275 with 1 Axes>"
      ]
     },
     "metadata": {},
     "output_type": "display_data"
    }
   ],
   "source": [
    "u=5.5\n",
    "fig,ax = plt.subplots(1, 1, figsize=(u, u/2))\n",
    "for i in range(len(a)):\n",
    "    ax.plot(x, y[i], label=r'$\\sigma$'+f'={a[i]:.2f}')\n",
    "ax.legend()\n",
    "\n",
    "ax.set_ylabel(r'$\\widehat{p}(\\omega|\\sigma)$')\n",
    "ax.set_yticks([])\n",
    "ax.set_xlabel(r'$\\omega$')\n",
    "plt.tight_layout()\n",
    "\n",
    "plt.savefig('outputs/figures/bands.pdf')"
   ]
  },
  {
   "cell_type": "code",
   "execution_count": null,
   "metadata": {},
   "outputs": [],
   "source": [
    "n_rows = 1\n",
    "n_cols = 3\n",
    "scale = 2\n",
    "fig, axes = plt.subplots(\n",
    "    n_rows,\n",
    "    n_cols,\n",
    "    figsize=(n_cols * scale, n_rows * scale / 2),\n",
    "    sharey=True,\n",
    "    sharex=True,\n",
    ")\n",
    "for i, ax in enumerate(axes):\n",
    "    ax.set_xlabel(\"Perturbation Scale\")\n",
    "    ax.set_xlim(0, 1)\n",
    "    ax.set_ylim(0, 1)\n",
    "    ax.set_xticks([])\n",
    "    ax.set_yticks([])\n",
    "    # frame off\n",
    "    ax.spines[\"top\"].set_visible(False)\n",
    "    ax.spines[\"right\"].set_visible(False)\n",
    "    ax.spines[\"bottom\"].set_visible(False)\n",
    "    ax.spines[\"left\"].set_visible(False)\n",
    "    ax.set_ylabel(\"Output\")\n",
    "\n",
    "axes[2].plot([1, 0], [0, 0.5], color=\"blue\")\n",
    "axes[2].plot([0, 0], [0, 0.5], color=\"blue\")\n",
    "axes[2].plot([1, 0], [0, 0], color=\"blue\")\n",
    "\n",
    "axes[2].plot([1, 0], [0.5, 1], color=\"red\")\n",
    "axes[2].plot([0, 0], [0.5, 1], color=\"red\")\n",
    "axes[2].plot([1, 1], [0, 0.5], color=\"red\")\n",
    "\n",
    "axes[2].text(0.5, 0.5, \"noise\", ha=\"center\", va=\"center\")\n",
    "axes[2].text(0.25, 0.15, \"signal\", ha=\"center\", va=\"center\")\n",
    "\n",
    "axes[2].fill_between(\n",
    "    [0, 1], [0.5, 0], [1, 0.5], color=\"pink\", alpha=0.2, edgecolor=\"red\", hatch=\"|\"\n",
    ")\n",
    "axes[2].fill_between(\n",
    "    [0, 1], [0, 0], [0.5, 0], color=\"lightblue\", alpha=0.2, edgecolor=\"blue\", hatch=\"+\"\n",
    ")\n",
    "\n",
    "axes[1].plot([1, 0], [0, 1], color=\"blue\")\n",
    "axes[1].plot([0, 0], [0, 1], color=\"blue\")\n",
    "axes[1].plot([1, 0], [0, 0], color=\"blue\")\n",
    "\n",
    "axes[1].plot([1, 0], [1, 1], color=\"red\")\n",
    "axes[1].plot([1, 1], [0, 1], color=\"red\")\n",
    "\n",
    "axes[1].text(0.75, 0.75, \"noise\", ha=\"center\", va=\"center\")\n",
    "axes[1].text(0.25, 0.25, \"signal\", ha=\"center\", va=\"center\")\n",
    "\n",
    "axes[1].fill_between(\n",
    "    [0, 1], [1, 0], [1, 1], color=\"pink\", alpha=0.2, edgecolor=\"red\", hatch=\"|\"\n",
    ")\n",
    "axes[1].fill_between(\n",
    "    [0, 1], [0, 0], [1, 0], color=\"lightblue\", alpha=0.2, edgecolor=\"blue\", hatch=\"+\"\n",
    ")\n",
    "198\n",
    "\n",
    "axes[0].plot([1, 0], [0.5, 0.5], color=\"blue\")\n",
    "axes[0].plot([0, 0], [0, 0.5], color=\"blue\")\n",
    "axes[0].plot([1, 0], [0, 0], color=\"blue\")\n",
    "axes[0].plot([1, 1], [0, 0.5], color=\"blue\")\n",
    "\n",
    "axes[0].plot([0, 1], [0.5, 1], color=\"red\")\n",
    "axes[0].plot([1, 1], [0.5, 1], color=\"red\")\n",
    "\n",
    "axes[0].text(0.75, 0.65, \"noise\", ha=\"center\", va=\"center\")\n",
    "axes[0].text(0.5, 0.25, \"signal\", ha=\"center\", va=\"center\")\n",
    "\n",
    "axes[0].fill_between(\n",
    "    [0, 1], [0.5, 0.5], [0.5, 1], color=\"pink\", alpha=0.2, edgecolor=\"red\", hatch=\"|\"\n",
    ")\n",
    "axes[0].fill_between(\n",
    "    [0, 1],\n",
    "    [0, 0],\n",
    "    [0.5, 0.5],\n",
    "    facecolor=\"lightblue\",\n",
    "    alpha=0.2,\n",
    "    edgecolor=\"blue\",\n",
    "    hatch=\"+\",\n",
    ")\n",
    "\n",
    "plt.show()\n",
    "fig.savefig(\"outputs/figures/combination_fns.pdf\", bbox_inches=\"tight\")"
   ]
  }
 ],
 "metadata": {
  "kernelspec": {
   "display_name": "xmodel",
   "language": "python",
   "name": "python3"
  },
  "language_info": {
   "codemirror_mode": {
    "name": "ipython",
    "version": 3
   },
   "file_extension": ".py",
   "mimetype": "text/x-python",
   "name": "python",
   "nbconvert_exporter": "python",
   "pygments_lexer": "ipython3",
   "version": "3.10.13"
  }
 },
 "nbformat": 4,
 "nbformat_minor": 2
}
