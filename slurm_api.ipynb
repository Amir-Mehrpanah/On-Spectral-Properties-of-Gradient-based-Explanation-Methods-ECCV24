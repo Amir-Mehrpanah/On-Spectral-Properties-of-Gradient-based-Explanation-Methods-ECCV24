{
 "cells": [
  {
   "cell_type": "code",
   "execution_count": 1,
   "metadata": {},
   "outputs": [],
   "source": [
    "import pandas as pd\n",
    "from source.project_manager import load_slurm_api_data, save_slurm_api_data"
   ]
  },
  {
   "cell_type": "code",
   "execution_count": 4,
   "metadata": {},
   "outputs": [],
   "source": [
    "data = [\n",
    "    {\n",
    "        \"dataset_index\": 0,\n",
    "        \"method\": \"noise_interpolation\",\n",
    "        \"override_args\": {\n",
    "            \"alpha\": 0.5,\n",
    "        },\n",
    "        \"stream\": \"vanilla_grad_mask\",\n",
    "        \"statistics\": \"var\",\n",
    "    },\n",
    "    {\n",
    "        \"dataset_index\": 0,\n",
    "        \"method\": \"noise_interpolation\",\n",
    "        \"override_args\": {\n",
    "            \"alpha\": 0.5,\n",
    "        },\n",
    "        \"stream\": \"results_at_projection\",\n",
    "        \"statistics\": \"mean\",\n",
    "    },\n",
    "]\n",
    "project_data = pd.DataFrame(\n",
    "    columns=[\n",
    "        \"data_path\",\n",
    "        \"data_exists\",\n",
    "    ],\n",
    "    data=data,\n",
    ")"
   ]
  },
  {
   "cell_type": "code",
   "execution_count": 91,
   "metadata": {},
   "outputs": [
    {
     "data": {
      "text/html": [
       "<div>\n",
       "<style scoped>\n",
       "    .dataframe tbody tr th:only-of-type {\n",
       "        vertical-align: middle;\n",
       "    }\n",
       "\n",
       "    .dataframe tbody tr th {\n",
       "        vertical-align: top;\n",
       "    }\n",
       "\n",
       "    .dataframe thead th {\n",
       "        text-align: right;\n",
       "    }\n",
       "</style>\n",
       "<table border=\"1\" class=\"dataframe\">\n",
       "  <thead>\n",
       "    <tr style=\"text-align: right;\">\n",
       "      <th></th>\n",
       "      <th>data_path</th>\n",
       "      <th>data_exists</th>\n",
       "    </tr>\n",
       "  </thead>\n",
       "  <tbody>\n",
       "    <tr>\n",
       "      <th>0</th>\n",
       "      <td>outputs/project_data/0/nan/noise_interpolation...</td>\n",
       "      <td>False</td>\n",
       "    </tr>\n",
       "    <tr>\n",
       "      <th>1</th>\n",
       "      <td>outputs/project_data/0/nan/noise_interpolation...</td>\n",
       "      <td>False</td>\n",
       "    </tr>\n",
       "  </tbody>\n",
       "</table>\n",
       "</div>"
      ],
      "text/plain": [
       "                                           data_path  data_exists\n",
       "0  outputs/project_data/0/nan/noise_interpolation...        False\n",
       "1  outputs/project_data/0/nan/noise_interpolation...        False"
      ]
     },
     "execution_count": 91,
     "metadata": {},
     "output_type": "execute_result"
    }
   ],
   "source": [
    "save_slurm_api_data"
   ]
  },
  {
   "cell_type": "code",
   "execution_count": 5,
   "metadata": {},
   "outputs": [
    {
     "data": {
      "text/html": [
       "<div>\n",
       "<style scoped>\n",
       "    .dataframe tbody tr th:only-of-type {\n",
       "        vertical-align: middle;\n",
       "    }\n",
       "\n",
       "    .dataframe tbody tr th {\n",
       "        vertical-align: top;\n",
       "    }\n",
       "\n",
       "    .dataframe thead th {\n",
       "        text-align: right;\n",
       "    }\n",
       "</style>\n",
       "<table border=\"1\" class=\"dataframe\">\n",
       "  <thead>\n",
       "    <tr style=\"text-align: right;\">\n",
       "      <th></th>\n",
       "      <th>dataset_index</th>\n",
       "      <th>label</th>\n",
       "      <th>method</th>\n",
       "      <th>override_args</th>\n",
       "      <th>stream</th>\n",
       "      <th>statistics</th>\n",
       "      <th>data_path</th>\n",
       "      <th>data_exists</th>\n",
       "    </tr>\n",
       "  </thead>\n",
       "  <tbody>\n",
       "    <tr>\n",
       "      <th>0</th>\n",
       "      <td>0</td>\n",
       "      <td>NaN</td>\n",
       "      <td>noise_interpolation</td>\n",
       "      <td>{'alpha': 0.5}</td>\n",
       "      <td>vanilla_grad_mask</td>\n",
       "      <td>var</td>\n",
       "      <td>NaN</td>\n",
       "      <td>NaN</td>\n",
       "    </tr>\n",
       "    <tr>\n",
       "      <th>1</th>\n",
       "      <td>0</td>\n",
       "      <td>NaN</td>\n",
       "      <td>noise_interpolation</td>\n",
       "      <td>{'alpha': 0.5}</td>\n",
       "      <td>results_at_projection</td>\n",
       "      <td>mean</td>\n",
       "      <td>NaN</td>\n",
       "      <td>NaN</td>\n",
       "    </tr>\n",
       "  </tbody>\n",
       "</table>\n",
       "</div>"
      ],
      "text/plain": [
       "   dataset_index  label               method  ... statistics data_path data_exists\n",
       "0              0    NaN  noise_interpolation  ...        var       NaN         NaN\n",
       "1              0    NaN  noise_interpolation  ...       mean       NaN         NaN\n",
       "\n",
       "[2 rows x 8 columns]"
      ]
     },
     "execution_count": 5,
     "metadata": {},
     "output_type": "execute_result"
    }
   ],
   "source": [
    "project_data"
   ]
  },
  {
   "cell_type": "code",
   "execution_count": null,
   "metadata": {},
   "outputs": [],
   "source": []
  }
 ],
 "metadata": {
  "kernelspec": {
   "display_name": "xmodel",
   "language": "python",
   "name": "python3"
  },
  "language_info": {
   "codemirror_mode": {
    "name": "ipython",
    "version": 3
   },
   "file_extension": ".py",
   "mimetype": "text/x-python",
   "name": "python",
   "nbconvert_exporter": "python",
   "pygments_lexer": "ipython3",
   "version": "3.9.16"
  },
  "orig_nbformat": 4
 },
 "nbformat": 4,
 "nbformat_minor": 2
}
